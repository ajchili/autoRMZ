{
 "cells": [
  {
   "cell_type": "code",
   "execution_count": 1,
   "metadata": {},
   "outputs": [],
   "source": [
    "# autoRMZ test/development notebook (v1)."
   ]
  },
  {
   "cell_type": "code",
   "execution_count": 2,
   "metadata": {},
   "outputs": [
    {
     "name": "stdout",
     "output_type": "stream",
     "text": [
      "LICENSE    \u001b[34mdataset\u001b[m\u001b[m    \u001b[34mprocessor\u001b[m\u001b[m  testing.py\n",
      "README.md  \u001b[34mpipeline\u001b[m\u001b[m   setup.py   v1.ipynb\n"
     ]
    }
   ],
   "source": [
    "# List all files to ensure all dependencies exist.\n",
    "!ls"
   ]
  },
  {
   "cell_type": "code",
   "execution_count": 1,
   "metadata": {},
   "outputs": [
    {
     "output_type": "stream",
     "name": "stderr",
     "text": "Using TensorFlow backend.\n"
    }
   ],
   "source": [
    "# Import dependencies\n",
    "import cv2\n",
    "import json\n",
    "import keras\n",
    "from pathlib import Path"
   ]
  },
  {
   "cell_type": "code",
   "execution_count": 2,
   "metadata": {},
   "outputs": [],
   "source": [
    "# Create data paths\n",
    "preprocessed_path = Path('./dataset/images')\n",
    "processed_path = Path('./dataset/processed')\n",
    "roi_path = Path('./dataset/roi')"
   ]
  },
  {
   "cell_type": "code",
   "execution_count": 3,
   "metadata": {},
   "outputs": [],
   "source": [
    "# Get files from data paths\n",
    "preprocessed_images = [e for e in preprocessed_path.iterdir() if e.is_file()]\n",
    "processed_json = [e for e in processed_path.iterdir() if e.is_file()]"
   ]
  },
  {
   "cell_type": "code",
   "execution_count": 9,
   "metadata": {},
   "outputs": [
    {
     "output_type": "execute_result",
     "data": {
      "text/plain": "355_BEUCCL_SYS001.png,287,361,298,568,meteor',\n '/Users/kirinpatel/github/autoRMZ/dataset/preprocessed/RAD_BEDOUR_20111007_0355_BEUCCL_SYS001.png,207,267,222,352,meteor',\n '/Users/kirinpatel/github/autoRMZ/dataset/preprocessed/RAD_BEDOUR_20111007_0355_BEUCCL_SYS001.png,139,283,159,304,meteor',\n '/Users/kirinpatel/github/autoRMZ/dataset/preprocessed/RAD_BEDOUR_20111007_0355_BEUCCL_SYS001.png,98,342,113,364,meteor',\n '/Users/kirinpatel/github/autoRMZ/dataset/preprocessed/RAD_BEDOUR_20111007_2220_BEUCCL_SYS001.png,731,344,741,381,meteor',\n '/Users/kirinpatel/github/autoRMZ/dataset/preprocessed/RAD_BEDOUR_20111007_2220_BEUCCL_SYS001.png,811,319,822,380,meteor',\n '/Users/kirinpatel/github/autoRMZ/dataset/preprocessed/RAD_BEDOUR_20111007_2220_BEUCCL_SYS001.png,165,331,176,478,meteor',\n '/Users/kirinpatel/github/autoRMZ/dataset/preprocessed/RAD_BEDOUR_20111007_2220_BEUCCL_SYS001.png,335,318,348,364,meteor',\n '/Users/kirinpatel/github/autoRMZ/dataset/preprocessed/RAD_BEDOUR_20111007_2220_BEUCCL_SYS001.png,363,307,374,383,meteor',\n '/Users/kirinpatel/github/autoRMZ/dataset/preprocessed/RAD_BEDOUR_20111007_2220_BEUCCL_SYS001.png,467,310,477,432,meteor',\n '/Users/kirinpatel/github/autoRMZ/dataset/preprocessed/RAD_BEDOUR_20111007_2220_BEUCCL_SYS001.png,527,359,540,376,meteor',\n '/Users/kirinpatel/github/autoRMZ/dataset/preprocessed/RAD_BEDOUR_20111007_2220_BEUCCL_SYS001.png,837,363,855,382,meteor',\n '/Users/kirinpatel/github/autoRMZ/dataset/preprocessed/RAD_BEDOUR_20111007_2220_BEUCCL_SYS001.png,899,327,910,436,meteor',\n '/Users/kirinpatel/github/autoRMZ/dataset/preprocessed/RAD_BEDOUR_20111007_2220_BEUCCL_SYS001.png,889,395,900,428,meteor',\n '/Users/kirinpatel/github/autoRMZ/dataset/preprocessed/RAD_BEDOUR_20111007_1135_BEUCCL_SYS001.png,718,386,729,422,meteor',\n '/Users/kirinpatel/github/autoRMZ/dataset/preprocessed/RAD_BEDOUR_20111007_1135_BEUCCL_SYS001.png,820,345,828,374,meteor',\n '/Users/kirinpatel/github/autoRMZ/dataset/preprocessed/RAD_BEDOUR_20111007_1135_BEUCCL_SYS001.png,840,362,852,382,meteor',\n '/Users/kirinpatel/github/autoRMZ/dataset/preprocessed/RAD_BEDOUR_20111007_1425_BEUCCL_SYS001.png,824,303,838,358,meteor',\n '/Users/kirinpatel/github/autoRMZ/dataset/preprocessed/RAD_BEDOUR_20111007_1425_BEUCCL_SYS001.png,639,299,653,339,meteor',\n '/Users/kirinpatel/github/autoRMZ/dataset/preprocessed/RAD_BEDOUR_20111007_1920_BEUCCL_SYS001.png,828,338,841,392,meteor',\n '/Users/kirinpatel/github/autoRMZ/dataset/preprocessed/RAD_BEDOUR_20111007_1920_BEUCCL_SYS001.png,624,336,639,362,meteor',\n '/Users/kirinpatel/github/autoRMZ/dataset/preprocessed/RAD_BEDOUR_20111007_1920_BEUCCL_SYS001.png,566,372,583,454,meteor',\n '/Users/kirinpatel/github/autoRMZ/dataset/preprocessed/RAD_BEDOUR_20111007_1920_BEUCCL_SYS001.png,494,392,507,448,meteor',\n '/Users/kirinpatel/github/autoRMZ/dataset/preprocessed/RAD_BEDOUR_20111007_1920_BEUCCL_SYS001.png,315,350,326,373,meteor',\n '/Users/kirinpatel/github/autoRMZ/dataset/preprocessed/RAD_BEDOUR_20111007_1610_BEUCCL_SYS001.png,130,288,139,322,meteor',\n '/Users/kirinpatel/github/autoRMZ/dataset/preprocessed/RAD_BEDOUR_20111007_1610_BEUCCL_SYS001.png,869,328,887,358,meteor',\n '/Users/kirinpatel/github/autoRMZ/dataset/preprocessed/RAD_BEDOUR_20111007_1610_BEUCCL_SYS001.png,207,381,224,401,meteor',\n '/Users/kirinpatel/github/autoRMZ/dataset/preprocessed/RAD_BEDOUR_20111007_1610_BEUCCL_SYS001.png,297,361,308,416,meteor',\n '/Users/kirinpatel/github/autoRMZ/dataset/preprocessed/RAD_BEDOUR_20111007_1610_BEUCCL_SYS001.png,369,292,386,395,meteor',\n '/Users/kirinpatel/github/autoRMZ/dataset/preprocessed/RAD_BEDOUR_20111007_1300_BEUCCL_SYS001.png,181,358,203,414,meteor',\n '/Users/kirinpatel/github/autoRMZ/dataset/preprocessed/RAD_BEDOUR_20111007_1300_BEUCCL_SYS001.png,424,358,439,389,meteor',\n '/Users/kirinpatel/github/autoRMZ/dataset/preprocessed/RAD_BEDOUR_20111007_1300_BEUCCL_SYS001.png,226,288,241,406,meteor',\n '/Users/kirinpatel/github/autoRMZ/dataset/preprocessed/RAD_BEDOUR_20111007_2015_BEUCCL_SYS001.png,99,364,114,411,meteor',\n '/Users/kirinpatel/github/autoRMZ/dataset/preprocessed/RAD_BEDOUR_20111007_2015_BEUCCL_SYS001.png,287,361,296,402,meteor',\n '/Users/kirinpatel/github/autoRMZ/dataset/preprocessed/RAD_BEDOUR_20111007_2015_BEUCCL_SYS001.png,635,395,650,465,meteor',\n '/Users/kirinpatel/github/autoRMZ/dataset/preprocessed/RAD_BEDOUR_20111007_2015_BEUCCL_SYS001.png,893,311,911,340,meteor',\n '/Users/kirinpatel/github/autoRMZ/dataset/preprocessed/RAD_BEDOUR_20111007_2120_BEUCCL_SYS001.png,296,437,309,452,meteor',\n '/Users/kirinpatel/github/autoRMZ/dataset/preprocessed/RAD_BEDOUR_20111007_2120_BEUCCL_SYS001.png,256,320,265,340,meteor',\n '/Users/kirinpatel/github/autoRMZ/dataset/preprocessed/RAD_BEDOUR_20111007_2120_BEUCCL_SYS001.png,314,366,326,431,meteor',\n '/Users/kirinpatel/github/autoRMZ/dataset/preprocessed/RAD_BEDOUR_20111007_2120_BEUCCL_SYS001.png,495,350,508,381,meteor',\n '/Users/kirinpatel/github/autoRMZ/dataset/preprocessed/RAD_BEDOUR_20111007_2120_BEUCCL_SYS001.png,631,355,646,393,meteor',\n '/Users/kirinpatel/github/autoRMZ/dataset/preprocessed/RAD_BEDOUR_20111007_1235_BEUCCL_SYS001.png,354,343,368,368,meteor',\n '/Users/kirinpatel/github/autoRMZ/dataset/preprocessed/RAD_BEDOUR_20111007_1235_BEUCCL_SYS001.png,65,333,77,414,meteor',\n '/Users/kirinpatel/github/autoRMZ/dataset/preprocessed/RAD_BEDOUR_20111007_1235_BEUCCL_SYS001.png,170,380,182,415,meteor',\n '/Users/kirinpatel/github/autoRMZ/dataset/preprocessed/RAD_BEDOUR_20111007_1235_BEUCCL_SYS001.png,515,346,533,466,meteor',\n '/Users/kirinpatel/github/autoRMZ/dataset/preprocessed/RAD_BEDOUR_20111007_1235_BEUCCL_SYS001.png,660,367,673,418,meteor',\n '/Users/kirinpatel/github/autoRMZ/dataset/preprocessed/RAD_BEDOUR_20111007_1235_BEUCCL_SYS001.png,737,344,748,366,meteor',\n '/Users/kirinpatel/github/autoRMZ/dataset/preprocessed/RAD_BEDOUR_20111007_1235_BEUCCL_SYS001.png,860,383,870,409,meteor',\n '/Users/kirinpatel/github/autoRMZ/dataset/preprocessed/RAD_BEDOUR_20111007_1235_BEUCCL_SYS001.png,894,360,913,431,meteor',\n '/Users/kirinpatel/github/autoRMZ/dataset/preprocessed/RAD_BEDOUR_20111007_1235_BEUCCL_SYS001.png,890,288,916,359,meteor',\n '/Users/kirinpatel/github/autoRMZ/dataset/preprocessed/RAD_BEDOUR_20111007_1725_BEUCCL_SYS001.png,509,319,522,378,meteor',\n '/Users/kirinpatel/github/autoRMZ/dataset/preprocessed/RAD_BEDOUR_20111007_1725_BEUCCL_SYS001.png,614,360,629,476,meteor',\n '/Users/kirinpatel/github/autoRMZ/dataset/preprocessed/RAD_BEDOUR_20111007_1725_BEUCCL_SYS001.png,244,193,261,411,meteor',\n '/Users/kirinpatel/github/autoRMZ/dataset/preprocessed/RAD_BEDOUR_20111007_0545_BEUCCL_SYS001.png,381,360,398,391,meteor',\n '/Users/kirinpatel/github/autoRMZ/dataset/preprocessed/RAD_BEDOUR_20111007_0545_BEUCCL_SYS001.png,465,363,480,389,meteor',\n '/Users/kirinpatel/github/autoRMZ/dataset/preprocessed/RAD_BEDOUR_20111007_0545_BEUCCL_SYS001.png,236,310,246,363,meteor',\n '/Users/kirinpatel/github/autoRMZ/dataset/preprocessed/RAD_BEDOUR_20111007_0545_BEUCCL_SYS001.png,274,343,289,378,meteor',\n '/Users/kirinpatel/github/autoRMZ/dataset/preprocessed/RAD_BEDOUR_20111007_0545_BEUCCL_SYS001.png,309,290,327,367,meteor',\n '/Users/kirinpatel/github/autoRMZ/dataset/preprocessed/RAD_BEDOUR_20111007_0545_BEUCCL_SYS001.png,532,319,545,363,meteor',\n '/Users/kirinpatel/github/autoRMZ/dataset/preprocessed/RAD_BEDOUR_20111007_0545_BEUCCL_SYS001.png,581,392,619,424,meteor',\n '/Users/kirinpatel/github/autoRMZ/dataset/preprocessed/RAD_BEDOUR_20111007_0545_BEUCCL_SYS001.png,676,280,692,374,meteor',\n '/Users/kirinpatel/github/autoRMZ/dataset/preprocessed/RAD_BEDOUR_20111007_0545_BEUCCL_SYS001.png,814,276,830,414,meteor',\n '/Users/kirinpatel/github/autoRMZ/dataset/preprocessed/RAD_BEDOUR_20111007_1815_BEUCCL_SYS001.png,668,365,685,413,meteor',\n '/Users/kirinpatel/github/autoRMZ/dataset/preprocessed/RAD_BEDOUR_20111007_1815_BEUCCL_SYS001.png,751,283,767,342,meteor',\n '/Users/kirinpatel/github/autoRMZ/dataset/preprocessed/RAD_BEDOUR_20111007_1815_BEUCCL_SYS001.png,555,195,573,456,meteor',\n '/Users/kirinpatel/github/autoRMZ/dataset/preprocessed/RAD_BEDOUR_20111007_1815_BEUCCL_SYS001.png,456,334,466,378,meteor',\n '/Users/kirinpatel/github/autoRMZ/dataset/preprocessed/RAD_BEDOUR_20111007_1815_BEUCCL_SYS001.png,105,242,123,455,meteor',\n '/Users/kirinpatel/github/autoRMZ/dataset/preprocessed/RAD_BEDOUR_20111007_0055_BEUCCL_SYS001.png,560,314,578,452,meteor',\n '/Users/kirinpatel/github/autoRMZ/dataset/preprocessed/RAD_BEDOUR_20111007_0055_BEUCCL_SYS001.png,469,327,481,361,meteor',\n '/Users/kirinpatel/github/autoRMZ/dataset/preprocessed/RAD_BEDOUR_20111007_0055_BEUCCL_SYS001.png,484,302,499,388,meteor',\n '/Users/kirinpatel/github/autoRMZ/dataset/preprocessed/RAD_BEDOUR_20111007_0055_BEUCCL_SYS001.png,835,336,847,368,meteor',\n '/Users/kirinpatel/github/autoRMZ/dataset/preprocessed/RAD_BEDOUR_20111007_0055_BEUCCL_SYS001.png,236,405,251,431,meteor',\n '/Users/kirinpatel/github/autoRMZ/dataset/preprocessed/RAD_BEDOUR_20111007_0055_BEUCCL_SYS001.png,236,301,257,363,meteor',\n '/Users/kirinpatel/github/autoRMZ/dataset/preprocessed/RAD_BEDOUR_20111007_0055_BEUCCL_SYS001.png,364,356,377,380,meteor',\n '/Users/kirinpatel/github/autoRMZ/dataset/preprocessed/RAD_BEDOUR_20111007_1600_BEUCCL_SYS001.png,774,293,790,331,meteor',\n '/Users/kirinpatel/github/autoRMZ/dataset/preprocessed/RAD_BEDOUR_20111007_1310_BEUCCL_SYS001.png,704,349,715,362,meteor',\n '/Users/kirinpatel/github/autoRMZ/dataset/preprocessed/RAD_BEDOUR_20111007_1310_BEUCCL_SYS001.png,819,344,833,364,meteor',\n '/Users/kirinpatel/github/autoRMZ/dataset/preprocessed/RAD_BEDOUR_20111007_1310_BEUCCL_SYS001.png,743,415,754,448,meteor',\n '/Users/kirinpatel/github/autoRMZ/dataset/preprocessed/RAD_BEDOUR_20111007_1310_BEUCCL_SYS001.png,125,263,138,313,meteor',\n '/Users/kirinpatel/github/autoRMZ/dataset/preprocessed/RAD_BEDOUR_20111007_1310_BEUCCL_SYS001.png,215,365,230,392,meteor',\n '/Users/kirinpatel/github/autoRMZ/dataset/preprocessed/RAD_BEDOUR_20111007_1310_BEUCCL_SYS001.png,607,244,625,479,meteor',\n '/Users/kirinpatel/github/autoRMZ/dataset/preprocessed/RAD_BEDOUR_20111007_1310_BEUCCL_SYS001.png,337,311,351,465,meteor',\n '/Users/kirinpatel/github/autoRMZ/dataset/preprocessed/RAD_BEDOUR_20111007_2005_BEUCCL_SYS001.png,869,347,885,414,meteor',\n '/Users/kirinpatel/github/autoRMZ/dataset/preprocessed/RAD_BEDOUR_20111007_2005_BEUCCL_SYS001.png,681,392,694,466,meteor',\n '/Users/kirinpatel/github/autoRMZ/dataset/preprocessed/RAD_BEDOUR_20111007_2005_BEUCCL_SYS001.png,593,371,607,434,meteor',\n '/Users/kirinpatel/github/autoRMZ/dataset/preprocessed/RAD_BEDOUR_20111007_2005_BEUCCL_SYS001.png,63,368,71,433,meteor',\n '/Users/kirinpatel/github/autoRMZ/dataset/preprocessed/RAD_BEDOUR_20111007_2005_BEUCCL_SYS001.png,411,319,437,431,meteor',\n '/Users/kirinpatel/github/autoRMZ/dataset/preprocessed/RAD_BEDOUR_20111007_1930_BEUCCL_SYS001.png,277,290,287,353,meteor',\n '/Users/kirinpatel/github/autoRMZ/dataset/preprocessed/RAD_BEDOUR_20111007_1930_BEUCCL_SYS001.png,63,306,83,365,meteor',\n '/Users/kirinpatel/github/autoRMZ/dataset/preprocessed/RAD_BEDOUR_20111007_1930_BEUCCL_SYS001.png,111,273,131,397,meteor',\n '/Users/kirinpatel/github/autoRMZ/dataset/preprocessed/RAD_BEDOUR_20111007_1805_BEUCCL_SYS001.png,605,369,618,449,meteor',\n '/Users/kirinpatel/github/autoRMZ/dataset/preprocessed/RAD_BEDOUR_20111007_1805_BEUCCL_SYS001.png,475,367,490,402,meteor',\n '/Users/kirinpatel/github/autoRMZ/dataset/preprocessed/RAD_BEDOUR_20111007_1805_BEUCCL_SYS001.png,177,329,205,436,meteor',\n '/Users/kirinpatel/github/autoRMZ/dataset/preprocessed/RAD_BEDOUR_20111007_0555_BEUCCL_SYS001.png,165,289,174,328,meteor',\n '/Users/kirinpatel/github/autoRMZ/dataset/preprocessed/RAD_BEDOUR_20111007_0555_BEUCCL_SYS001.png,126,285,140,307,meteor',\n '/Users/kirinpatel/github/autoRMZ/dataset/preprocessed/RAD_BEDOUR_20111007_0555_BEUCCL_SYS001.png,281,344,296,450,meteor',\n '/Users/kirinpatel/github/autoRMZ/dataset/preprocessed/RAD_BEDOUR_20111007_0555_BEUCCL_SYS001.png,558,263,571,313,meteor',\n '/Users/kirinpatel/github/autoRMZ/dataset/preprocessed/RAD_BEDOUR_20111007_0555_BEUCCL_SYS001.png,719,292,734,377,meteor',\n '/Users/kirinpatel/github/autoRMZ/dataset/preprocessed/RAD_BEDOUR_20111007_0555_BEUCCL_SYS001.png,754,181,767,412,meteor',\n '/Users/kirinpatel/github/autoRMZ/dataset/preprocessed/RAD_BEDOUR_20111007_0045_BEUCCL_SYS001.png,349,358,359,387,meteor',\n '/Users/kirinpatel/github/autoRMZ/dataset/preprocessed/RAD_BEDOUR_20111007_0045_BEUCCL_SYS001.png,337,371,350,428,meteor',\n '/Users/kirinpatel/github/autoRMZ/dataset/preprocessed/RAD_BEDOUR_20111007_0045_BEUCCL_SYS001.png,95,361,105,409,meteor',\n '/Users/kirinpatel/github/autoRMZ/dataset/preprocessed/RAD_BEDOUR_20111007_0045_BEUCCL_SYS001.png,568,387,579,407,meteor',\n '/Users/kirinpatel/github/autoRMZ/dataset/preprocessed/RAD_BEDOUR_20111007_0045_BEUCCL_SYS001.png,593,336,612,393,meteor',\n '/Users/kirinpatel/github/autoRMZ/dataset/preprocessed/RAD_BEDOUR_20111007_0045_BEUCCL_SYS001.png,865,317,878,422,meteor',\n '/Users/kirinpatel/github/autoRMZ/dataset/preprocessed/RAD_BEDOUR_20111007_2130_BEUCCL_SYS001.png,878,371,888,404,meteor',\n '/Users/kirinpatel/github/autoRMZ/dataset/preprocessed/RAD_BEDOUR_20111007_2130_BEUCCL_SYS001.png,206,385,216,426,meteor',\n '/Users/kirinpatel/github/autoRMZ/dataset/preprocessed/RAD_BEDOUR_20111007_2130_BEUCCL_SYS001.png,223,366,236,462,meteor',\n '/Users/kirinpatel/github/autoRMZ/dataset/preprocessed/RAD_BEDOUR_20111007_2130_BEUCCL_SYS001.png,519,372,532,418,meteor',\n '/Users/kirinpatel/github/autoRMZ/dataset/preprocessed/RAD_BEDOUR_20111007_2130_BEUCCL_SYS001.png,576,405,584,433,meteor',\n '/Users/kirinpatel/github/autoRMZ/dataset/preprocessed/RAD_BEDOUR_20111007_2130_BEUCCL_SYS001.png,564,350,576,466,meteor',\n '/Users/kirinpatel/github/autoRMZ/dataset/preprocessed/RAD_BEDOUR_20111007_2130_BEUCCL_SYS001.png,137,255,151,361,meteor',\n '/Users/kirinpatel/github/autoRMZ/dataset/preprocessed/RAD_BEDOUR_20111007_1225_BEUCCL_SYS001.png,246,301,264,322,meteor',\n '/Users/kirinpatel/github/autoRMZ/dataset/preprocessed/RAD_BEDOUR_20111007_1225_BEUCCL_SYS001.png,344,301,358,320,meteor',\n '/Users/kirinpatel/github/autoRMZ/dataset/preprocessed/RAD_BEDOUR_20111007_1225_BEUCCL_SYS001.png,259,340,274,400,meteor',\n '/Users/kirinpatel/github/autoRMZ/dataset/preprocessed/RAD_BEDOUR_20111007_1225_BEUCCL_SYS001.png,424,363,438,507,meteor',\n '/Users/kirinpatel/github/autoRMZ/dataset/preprocessed/RAD_BEDOUR_20111007_1225_BEUCCL_SYS001.png,813,380,828,419,meteor',\n '/Users/kirinpatel/github/autoRMZ/dataset/preprocessed/RAD_BEDOUR_20111007_1225_BEUCCL_SYS001.png,771,393,785,437,meteor',\n '/Users/kirinpatel/github/autoRMZ/dataset/preprocessed/RAD_BEDOUR_20111007_1735_BEUCCL_SYS001.png,597,346,612,393,meteor',\n '/Users/kirinpatel/github/autoRMZ/dataset/preprocessed/RAD_BEDOUR_20111007_1735_BEUCCL_SYS001.png,463,358,475,380,meteor',\n '/Users/kirinpatel/github/autoRMZ/dataset/preprocessed/RAD_BEDOUR_20111007_1735_BEUCCL_SYS001.png,447,314,461,355,meteor',\n '/Users/kirinpatel/github/autoRMZ/dataset/preprocessed/RAD_BEDOUR_20111007_1735_BEUCCL_SYS001.png,72,362,84,421,meteor',\n '/Users/kirinpatel/github/autoRMZ/dataset/preprocessed/RAD_BEDOUR_20111007_1705_BEUCCL_SYS001.png,707,351,717,454,meteor',\n '/Users/kirinpatel/github/autoRMZ/dataset/preprocessed/RAD_BEDOUR_20111007_1705_BEUCCL_SYS001.png,836,316,856,386,meteor',\n '/Users/kirinpatel/github/autoRMZ/dataset/preprocessed/RAD_BEDOUR_20111007_1705_BEUCCL_SYS001.png,252,286,273,356,meteor',\n '/Users/kirinpatel/github/autoRMZ/dataset/preprocessed/RAD_BEDOUR_20111007_1705_BEUCCL_SYS001.png,146,66,162,186,meteor',\n '/Users/kirinpatel/github/autoRMZ/dataset/preprocessed/RAD_BEDOUR_20111007_2100_BEUCCL_SYS001.png,69,361,83,389,meteor',\n '/Users/kirinpatel/github/autoRMZ/dataset/preprocessed/RAD_BEDOUR_20111007_2100_BEUCCL_SYS001.png,117,363,127,425,meteor',\n '/Users/kirinpatel/github/autoRMZ/dataset/preprocessed/RAD_BEDOUR_20111007_2100_BEUCCL_SYS001.png,400,374,407,437,meteor',\n '/Users/kirinpatel/github/autoRMZ/dataset/preprocessed/RAD_BEDOUR_20111007_2100_BEUCCL_SYS001.png,409,333,418,376,meteor',\n '/Users/kirinpatel/github/autoRMZ/dataset/preprocessed/RAD_BEDOUR_20111007_2100_BEUCCL_SYS001.png,612,366,632,414,meteor',\n '/Users/kirinpatel/github/autoRMZ/dataset/preprocessed/RAD_BEDOUR_20111007_2100_BEUCCL_SYS001.png,536,282,549,511,meteor',\n '/Users/kirinpatel/github/autoRMZ/dataset/preprocessed/RAD_BEDOUR_20111007_1215_BEUCCL_SYS001.png,526,314,538,348,meteor',\n '/Users/kirinpatel/github/autoRMZ/dataset/preprocessed/RAD_BEDOUR_20111007_1215_BEUCCL_SYS001.png,627,361,638,416,meteor',\n '/Users/kirinpatel/github/autoRMZ/dataset/preprocessed/RAD_BEDOUR_20111007_1215_BEUCCL_SYS001.png,614,325,628,355,meteor',\n '/Users/kirinpatel/github/autoRMZ/dataset/preprocessed/RAD_BEDOUR_20111007_1215_BEUCCL_SYS001.png,717,361,734,396,meteor',\n '/Users/kirinpatel/github/autoRMZ/dataset/preprocessed/RAD_BEDOUR_20111007_1215_BEUCCL_SYS001.png,495,362,511,437,meteor',\n '/Users/kirinpatel/github/autoRMZ/dataset/preprocessed/RAD_BEDOUR_20111007_1215_BEUCCL_SYS001.png,461,349,478,392,meteor',\n '/Users/kirinpatel/github/autoRMZ/dataset/preprocessed/RAD_BEDOUR_20111007_1215_BEUCCL_SYS001.png,448,343,457,415,meteor',\n '/Users/kirinpatel/github/autoRMZ/dataset/preprocessed/RAD_BEDOUR_20111007_1215_BEUCCL_SYS001.png,204,305,215,363,meteor',\n '/Users/kirinpatel/github/autoRMZ/dataset/preprocessed/RAD_BEDOUR_20111007_1215_BEUCCL_SYS001.png,216,309,228,360,meteor',\n '/Users/kirinpatel/github/autoRMZ/dataset/preprocessed/RAD_BEDOUR_20111007_1215_BEUCCL_SYS001.png,355,361,368,431,meteor',\n '/Users/kirinpatel/github/autoRMZ/dataset/preprocessed/RAD_BEDOUR_20111007_1835_BEUCCL_SYS001.png,612,367,638,439,meteor',\n '/Users/kirinpatel/github/autoRMZ/dataset/preprocessed/RAD_BEDOUR_20111007_1835_BEUCCL_SYS001.png,824,157,841,496,meteor',\n '/Users/kirinpatel/github/autoRMZ/dataset/preprocessed/RAD_BEDOUR_20111007_1835_BEUCCL_SYS001.png,713,287,730,396,meteor',\n '/Users/kirinpatel/github/autoRMZ/dataset/preprocessed/RAD_BEDOUR_20111007_1835_BEUCCL_SYS001.png,517,317,534,466,meteor',\n '/Users/kirinpatel/github/autoRMZ/dataset/preprocessed/RAD_BEDOUR_20111007_1835_BEUCCL_SYS001.png,295,64,309,462,meteor',\n '/Users/kirinpatel/github/autoRMZ/dataset/preprocessed/RAD_BEDOUR_20111007_0450_BEUCCL_SYS001.png,181,342,194,405,meteor',\n '/Users/kirinpatel/github/autoRMZ/dataset/preprocessed/RAD_BEDOUR_20111007_0450_BEUCCL_SYS001.png,245,279,257,325,meteor',\n '/Users/kirinpatel/github/autoRMZ/dataset/preprocessed/RAD_BEDOUR_20111007_0450_BEUCCL_SYS001.png,292,295,310,387,meteor',\n '/Users/kirinpatel/github/autoRMZ/dataset/preprocessed/RAD_BEDOUR_20111007_0450_BEUCCL_SYS001.png,515,263,533,415,meteor',\n '/Users/kirinpatel/github/autoRMZ/dataset/preprocessed/RAD_BEDOUR_20111007_0450_BEUCCL_SYS001.png,572,306,587,355,meteor',\n '/Users/kirinpatel/github/autoRMZ/dataset/preprocessed/RAD_BEDOUR_20111007_0450_BEUCCL_SYS001.png,693,273,704,319,meteor',\n '/Users/kirinpatel/github/autoRMZ/dataset/preprocessed/RAD_BEDOUR_20111007_0450_BEUCCL_SYS001.png,863,342,871,396,meteor',\n '/Users/kirinpatel/github/autoRMZ/dataset/preprocessed/RAD_BEDOUR_20111007_1900_BEUCCL_SYS001.png,778,349,795,375,meteor',\n '/Users/kirinpatel/github/autoRMZ/dataset/preprocessed/RAD_BEDOUR_20111007_1900_BEUCCL_SYS001.png,187,83,206,446,meteor',\n '/Users/kirinpatel/github/autoRMZ/dataset/preprocessed/RAD_BEDOUR_20111007_0140_BEUCCL_SYS001.png,137,232,193,433,meteor',\n '/Users/kirinpatel/github/autoRMZ/dataset/preprocessed/RAD_BEDOUR_20111007_0140_BEUCCL_SYS001.png,125,361,136,441,meteor',\n '/Users/kirinpatel/github/autoRMZ/dataset/preprocessed/RAD_BEDOUR_20111007_0140_BEUCCL_SYS001.png,246,307,259,446,meteor',\n '/Users/kirinpatel/github/autoRMZ/dataset/preprocessed/RAD_BEDOUR_20111007_0140_BEUCCL_SYS001.png,635,289,651,372,meteor',\n '/Users/kirinpatel/github/autoRMZ/dataset/preprocessed/RAD_BEDOUR_20111007_0140_BEUCCL_SYS001.png,780,327,791,404,meteor',\n '/Users/kirinpatel/github/autoRMZ/dataset/preprocessed/RAD_BEDOUR_20111007_1320_BEUCCL_SYS001.png,138,340,151,407,meteor',\n ...]"
     },
     "metadata": {},
     "execution_count": 9
    }
   ],
   "source": [
    "# Obtain ROI from images and save to csv\n",
    "df = list()\n",
    "\n",
    "for json_file in processed_json:\n",
    "    data_point_name = json_file.name[:-5]\n",
    "    image_file = Path('./dataset/images/{}.png'.format(data_point_name))\n",
    "    crop_areas = []\n",
    "    with json_file.open() as f:\n",
    "        crop_areas = json.load(f)['areas']\n",
    "    \n",
    "    image_path = str(image_file.absolute())\n",
    "    \n",
    "    for j in range(0, len(crop_areas)):\n",
    "        area = crop_areas[j]\n",
    "        x1 = min(area['p1'][0], area['p2'][0])\n",
    "        y1 = min(area['p1'][1], area['p2'][1])\n",
    "        x2 = x1 + abs(area['p1'][0] - area['p2'][0])\n",
    "        y2 = y1 + abs(area['p1'][1] - area['p2'][1])\n",
    "        formatted_file_information = '{},{},{},{},{},meteor'.format(\n",
    "            image_file.absolute(),\n",
    "            x1,\n",
    "            y1,\n",
    "            x2,\n",
    "            y2\n",
    "        )\n",
    "        df.append(formatted_file_information)"
   ]
  },
  {
   "cell_type": "code",
   "execution_count": null,
   "metadata": {},
   "outputs": [],
   "source": []
  }
 ],
 "metadata": {
  "kernelspec": {
   "display_name": "Python 3",
   "language": "python",
   "name": "python3"
  },
  "language_info": {
   "codemirror_mode": {
    "name": "ipython",
    "version": 3
   },
   "file_extension": ".py",
   "mimetype": "text/x-python",
   "name": "python",
   "nbconvert_exporter": "python",
   "pygments_lexer": "ipython3",
   "version": "3.7.7-final"
  }
 },
 "nbformat": 4,
 "nbformat_minor": 4
}
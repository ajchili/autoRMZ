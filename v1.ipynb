{
 "cells": [
  {
   "cell_type": "code",
   "execution_count": 1,
   "metadata": {},
   "outputs": [],
   "source": [
    "# autoRMZ test/development notebook (v1)."
   ]
  },
  {
   "cell_type": "code",
   "execution_count": 2,
   "metadata": {},
   "outputs": [
    {
     "name": "stdout",
     "output_type": "stream",
     "text": [
      "LICENSE    \u001b[34mdataset\u001b[m\u001b[m    \u001b[34mprocessor\u001b[m\u001b[m  testing.py\n",
      "README.md  \u001b[34mpipeline\u001b[m\u001b[m   setup.py   v1.ipynb\n"
     ]
    }
   ],
   "source": [
    "# List all files to ensure all dependencies exist.\n",
    "!ls"
   ]
  },
  {
   "cell_type": "code",
   "execution_count": 10,
   "metadata": {},
   "outputs": [],
   "source": [
    "# Import dependencies\n",
    "import cv2\n",
    "import json\n",
    "import keras\n",
    "from pathlib import Path\n",
    "import pandas as pd"
   ]
  },
  {
   "cell_type": "code",
   "execution_count": 2,
   "metadata": {},
   "outputs": [],
   "source": [
    "# Create data paths\n",
    "preprocessed_path = Path('./dataset/images')\n",
    "processed_path = Path('./dataset/processed')\n",
    "roi_path = Path('./dataset/roi')"
   ]
  },
  {
   "cell_type": "code",
   "execution_count": 3,
   "metadata": {},
   "outputs": [],
   "source": [
    "# Get files from data paths\n",
    "preprocessed_images = [e for e in preprocessed_path.iterdir() if e.is_file()]\n",
    "processed_json = [e for e in processed_path.iterdir() if e.is_file()]"
   ]
  },
  {
   "cell_type": "code",
   "execution_count": 24,
   "metadata": {},
   "outputs": [],
   "source": [
    "# Obtain ROI from images and save to csv\n",
    "data = []\n",
    "\n",
    "for json_file in processed_json:\n",
    "    data_point_name = json_file.name[:-5]\n",
    "    image_file = Path('./dataset/images/{}.png'.format(data_point_name))\n",
    "    crop_areas = []\n",
    "    with json_file.open() as f:\n",
    "        crop_areas = json.load(f)['areas']\n",
    "    \n",
    "    for j in range(0, len(crop_areas)):\n",
    "        area = crop_areas[j]\n",
    "        x1 = min(area['p1'][0], area['p2'][0])\n",
    "        y1 = min(area['p1'][1], area['p2'][1])\n",
    "        x2 = x1 + abs(area['p1'][0] - area['p2'][0])\n",
    "        y2 = y1 + abs(area['p1'][1] - area['p2'][1])\n",
    "        data.append([\n",
    "            image_file.absolute(),\n",
    "            x1,\n",
    "            y1,\n",
    "            x2,\n",
    "            y2,\n",
    "            'meteor'\n",
    "        ])\n",
    "\n",
    "df = pd.DataFrame(data, columns=['path', 'x1', 'y1', 'x2', 'y2', 'object'])\n",
    "# Save as csv\n",
    "df.to_csv('./dataset/roi.csv')\n",
    "# Save as annotated text file for training step\n",
    "df.to_csv('./dataset/annotate.txt', header=None, index=None, sep=' ')"
   ]
  }
 ],
 "metadata": {
  "kernelspec": {
   "display_name": "Python 3",
   "language": "python",
   "name": "python3"
  },
  "language_info": {
   "codemirror_mode": {
    "name": "ipython",
    "version": 3
   },
   "file_extension": ".py",
   "mimetype": "text/x-python",
   "name": "python",
   "nbconvert_exporter": "python",
   "pygments_lexer": "ipython3",
   "version": "3.7.7-final"
  }
 },
 "nbformat": 4,
 "nbformat_minor": 4
}